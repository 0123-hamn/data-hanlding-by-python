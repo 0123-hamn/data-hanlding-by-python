{
 "cells": [
  {
   "cell_type": "code",
   "execution_count": 5,
   "id": "09e7d012-5ef2-4d1c-a892-977a649b8042",
   "metadata": {},
   "outputs": [
    {
     "name": "stdout",
     "output_type": "stream",
     "text": [
      "[103, 105, 107, 104, 106, 108, 109, 110, 111, 112, 113, 114, 115, 116, 117, 118, 119, 120, 121, 122, 123, 124, 125, 126, 127]\n"
     ]
    }
   ],
   "source": [
    "import json\n",
    "def load_data(filename):\n",
    "    with open(filename,\"r\") as file:\n",
    "        return json.load(file)\n",
    "#Function to find pages a user might like based on common interests\n",
    "def find_pages_you_might_like(user_id,data):\n",
    "    # Dictionary to store user interaction with pages\n",
    "    user_pages={}\n",
    "    for user in data[\"users\"]:\n",
    "        user_pages[user[\"id\"]] = set(user[\"liked_pages\"])\n",
    "    # if the user is not found , return an empty list\n",
    "    if user_id not in user_pages:\n",
    "        return[]\n",
    "    user_liked_pages = user_pages[user_id]\n",
    "    page_suggestions = {}\n",
    "\n",
    "    for other_user,pages in user_pages.items():\n",
    "        if other_user != user_id:\n",
    "            shared_pages = user_liked_pages.intersection(pages)\n",
    "            for page in pages:\n",
    "                if page not in user_liked_pages:\n",
    "                    page_suggestions[page] = page_suggestions.get(page,0) + len(shared_pages)\n",
    "\n",
    "    sorted_pages = sorted(page_suggestions.items(),key=lambda x:x[1],reverse = True)\n",
    "    return [page_id for page_id,_ in sorted_pages]\n",
    "\n",
    "# Load data\n",
    "data = load_data(\"data3.json\")\n",
    "user_id = 1\n",
    "page_recommendations = find_pages_you_might_like(user_id,data)\n",
    "print(page_recommendations)"
   ]
  },
  {
   "cell_type": "code",
   "execution_count": null,
   "id": "772214eb-4745-4781-839e-22e040c93560",
   "metadata": {},
   "outputs": [],
   "source": []
  }
 ],
 "metadata": {
  "kernelspec": {
   "display_name": "Python 3 (ipykernel)",
   "language": "python",
   "name": "python3"
  },
  "language_info": {
   "codemirror_mode": {
    "name": "ipython",
    "version": 3
   },
   "file_extension": ".py",
   "mimetype": "text/x-python",
   "name": "python",
   "nbconvert_exporter": "python",
   "pygments_lexer": "ipython3",
   "version": "3.12.7"
  }
 },
 "nbformat": 4,
 "nbformat_minor": 5
}
